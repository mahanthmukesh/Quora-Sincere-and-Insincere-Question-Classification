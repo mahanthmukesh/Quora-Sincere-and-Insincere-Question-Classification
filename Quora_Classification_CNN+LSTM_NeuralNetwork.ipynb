{
  "nbformat": 4,
  "nbformat_minor": 0,
  "metadata": {
    "colab": {
      "name": "Git Quora.ipynb",
      "provenance": [],
      "toc_visible": true,
      "authorship_tag": "ABX9TyPf8f0M4UyuHiBL+gB+qRoW"
    },
    "kernelspec": {
      "name": "python3",
      "display_name": "Python 3"
    },
    "accelerator": "GPU"
  },
  "cells": [
    {
      "cell_type": "markdown",
      "metadata": {
        "id": "0doreoyjf2VA",
        "colab_type": "text"
      },
      "source": [
        "# Easy way to use Kaggle datasets in Google Colab\n",
        "Colab has free GPU usage but it can be a pain setting it up with Drive or managing files. Here's a sample script where you just need to paste in your username, API key, and competition name and it'll download and extract the files for you.<br><br>\n",
        "To use the Kaggle API, sign up for a Kaggle account at https://www.kaggle.com. Then go to the 'Account' tab of your user profile (https://www.kaggle.com/<username>/account) and select 'Create API Token'. This will trigger the download of kaggle.json, a file containing your API credentials. Place this file in the location ~/.kaggle/kaggle.json<br>\n",
        "<br>\n",
        "\n",
        "The JSON file contains the following details:<br><br>\n",
        "**{\"username\":\"USERNAME\",\"key\":\"API_KEY\"}**<br><br>\n",
        "Replace the USERNAME and API_KEY in the code below"
      ]
    },
    {
      "cell_type": "code",
      "metadata": {
        "id": "zDZPf77w_DIo",
        "colab_type": "code",
        "outputId": "18d5f9ff-70ba-4a05-c391-91f67b58d34c",
        "colab": {
          "base_uri": "https://localhost:8080/",
          "height": 263
        }
      },
      "source": [
        "!pip install -U -q kaggle\n",
        "!mkdir -p ~/.kaggle\n",
        "!echo '{\"username\":\"ENTER_YOU_USERNAME\",\"key\":\"ENTER_YOU_API_KEY\"}' > ~/.kaggle/kaggle.json\n",
        "!chmod 600 ~/.kaggle/kaggle.json\n",
        "!kaggle competitions download -c quora-insincere-questions-classification"
      ],
      "execution_count": 1,
      "outputs": [
        {
          "output_type": "stream",
          "text": [
            "Warning: Looks like you're using an outdated API Version, please consider updating (server 1.5.6 / client 1.5.4)\n",
            "Downloading train.csv.zip to /content\n",
            " 96% 53.0M/54.9M [00:01<00:00, 21.3MB/s]\n",
            "100% 54.9M/54.9M [00:01<00:00, 45.5MB/s]\n",
            "Downloading test.csv.zip to /content\n",
            " 57% 9.00M/15.8M [00:00<00:00, 15.2MB/s]\n",
            "100% 15.8M/15.8M [00:00<00:00, 24.9MB/s]\n",
            "Downloading sample_submission.csv.zip to /content\n",
            "100% 4.09M/4.09M [00:00<00:00, 11.1MB/s]\n",
            "\n",
            "Downloading embeddings.zip to /content\n",
            "100% 5.95G/5.96G [02:15<00:00, 44.9MB/s]\n",
            "100% 5.96G/5.96G [02:15<00:00, 47.2MB/s]\n"
          ],
          "name": "stdout"
        }
      ]
    },
    {
      "cell_type": "code",
      "metadata": {
        "id": "4BouH6FI_Lt9",
        "colab_type": "code",
        "outputId": "ae39bb49-e2db-430d-d971-6a5bad200c34",
        "colab": {
          "base_uri": "https://localhost:8080/",
          "height": 52
        }
      },
      "source": [
        "!ls"
      ],
      "execution_count": 2,
      "outputs": [
        {
          "output_type": "stream",
          "text": [
            "embeddings.zip\tsample_submission.csv.zip  train.csv.zip\n",
            "sample_data\ttest.csv.zip\n"
          ],
          "name": "stdout"
        }
      ]
    },
    {
      "cell_type": "code",
      "metadata": {
        "id": "pkKeBcL7Z6q_",
        "colab_type": "code",
        "outputId": "373cf084-6df8-4942-eb4a-603892878056",
        "colab": {
          "base_uri": "https://localhost:8080/",
          "height": 191
        }
      },
      "source": [
        "!unzip embeddings.zip"
      ],
      "execution_count": 3,
      "outputs": [
        {
          "output_type": "stream",
          "text": [
            "Archive:  embeddings.zip\n",
            "   creating: GoogleNews-vectors-negative300/\n",
            "   creating: glove.840B.300d/\n",
            "   creating: paragram_300_sl999/\n",
            "   creating: wiki-news-300d-1M/\n",
            "  inflating: glove.840B.300d/glove.840B.300d.txt  \n",
            "  inflating: GoogleNews-vectors-negative300/GoogleNews-vectors-negative300.bin  \n",
            "  inflating: wiki-news-300d-1M/wiki-news-300d-1M.vec  \n",
            "  inflating: paragram_300_sl999/README.txt  \n",
            "  inflating: paragram_300_sl999/paragram_300_sl999.txt  \n"
          ],
          "name": "stdout"
        }
      ]
    },
    {
      "cell_type": "code",
      "metadata": {
        "id": "WzgGDALKczGF",
        "colab_type": "code",
        "outputId": "2d9536f6-7e37-4262-85d1-edbfa8f3da4e",
        "colab": {
          "base_uri": "https://localhost:8080/",
          "height": 52
        }
      },
      "source": [
        "!unzip train.csv.zip"
      ],
      "execution_count": 4,
      "outputs": [
        {
          "output_type": "stream",
          "text": [
            "Archive:  train.csv.zip\n",
            "  inflating: train.csv               \n"
          ],
          "name": "stdout"
        }
      ]
    },
    {
      "cell_type": "code",
      "metadata": {
        "id": "SOxkDL8_c24Y",
        "colab_type": "code",
        "outputId": "7771efd4-868a-47a8-f38e-234f177b7426",
        "colab": {
          "base_uri": "https://localhost:8080/",
          "height": 52
        }
      },
      "source": [
        "!unzip test.csv.zip"
      ],
      "execution_count": 5,
      "outputs": [
        {
          "output_type": "stream",
          "text": [
            "Archive:  test.csv.zip\n",
            "  inflating: test.csv                \n"
          ],
          "name": "stdout"
        }
      ]
    },
    {
      "cell_type": "code",
      "metadata": {
        "id": "DSe1XJt7K_MW",
        "colab_type": "code",
        "outputId": "0d2cec0b-32e0-4010-fb29-623232e54300",
        "colab": {
          "base_uri": "https://localhost:8080/",
          "height": 748
        }
      },
      "source": [
        "!pip install tensorflow-gpu"
      ],
      "execution_count": 6,
      "outputs": [
        {
          "output_type": "stream",
          "text": [
            "Collecting tensorflow-gpu\n",
            "\u001b[?25l  Downloading https://files.pythonhosted.org/packages/31/bf/c28971266ca854a64f4b26f07c4112ddd61f30b4d1f18108b954a746f8ea/tensorflow_gpu-2.2.0-cp36-cp36m-manylinux2010_x86_64.whl (516.2MB)\n",
            "\u001b[K     |████████████████████████████████| 516.2MB 33kB/s \n",
            "\u001b[?25hRequirement already satisfied: termcolor>=1.1.0 in /usr/local/lib/python3.6/dist-packages (from tensorflow-gpu) (1.1.0)\n",
            "Requirement already satisfied: scipy==1.4.1; python_version >= \"3\" in /usr/local/lib/python3.6/dist-packages (from tensorflow-gpu) (1.4.1)\n",
            "Requirement already satisfied: six>=1.12.0 in /usr/local/lib/python3.6/dist-packages (from tensorflow-gpu) (1.12.0)\n",
            "Requirement already satisfied: google-pasta>=0.1.8 in /usr/local/lib/python3.6/dist-packages (from tensorflow-gpu) (0.2.0)\n",
            "Requirement already satisfied: h5py<2.11.0,>=2.10.0 in /usr/local/lib/python3.6/dist-packages (from tensorflow-gpu) (2.10.0)\n",
            "Requirement already satisfied: opt-einsum>=2.3.2 in /usr/local/lib/python3.6/dist-packages (from tensorflow-gpu) (3.2.1)\n",
            "Requirement already satisfied: gast==0.3.3 in /usr/local/lib/python3.6/dist-packages (from tensorflow-gpu) (0.3.3)\n",
            "Requirement already satisfied: tensorboard<2.3.0,>=2.2.0 in /usr/local/lib/python3.6/dist-packages (from tensorflow-gpu) (2.2.1)\n",
            "Requirement already satisfied: tensorflow-estimator<2.3.0,>=2.2.0 in /usr/local/lib/python3.6/dist-packages (from tensorflow-gpu) (2.2.0)\n",
            "Requirement already satisfied: wheel>=0.26; python_version >= \"3\" in /usr/local/lib/python3.6/dist-packages (from tensorflow-gpu) (0.34.2)\n",
            "Requirement already satisfied: numpy<2.0,>=1.16.0 in /usr/local/lib/python3.6/dist-packages (from tensorflow-gpu) (1.18.4)\n",
            "Requirement already satisfied: protobuf>=3.8.0 in /usr/local/lib/python3.6/dist-packages (from tensorflow-gpu) (3.10.0)\n",
            "Requirement already satisfied: keras-preprocessing>=1.1.0 in /usr/local/lib/python3.6/dist-packages (from tensorflow-gpu) (1.1.2)\n",
            "Requirement already satisfied: astunparse==1.6.3 in /usr/local/lib/python3.6/dist-packages (from tensorflow-gpu) (1.6.3)\n",
            "Requirement already satisfied: wrapt>=1.11.1 in /usr/local/lib/python3.6/dist-packages (from tensorflow-gpu) (1.12.1)\n",
            "Requirement already satisfied: absl-py>=0.7.0 in /usr/local/lib/python3.6/dist-packages (from tensorflow-gpu) (0.9.0)\n",
            "Requirement already satisfied: grpcio>=1.8.6 in /usr/local/lib/python3.6/dist-packages (from tensorflow-gpu) (1.29.0)\n",
            "Requirement already satisfied: google-auth-oauthlib<0.5,>=0.4.1 in /usr/local/lib/python3.6/dist-packages (from tensorboard<2.3.0,>=2.2.0->tensorflow-gpu) (0.4.1)\n",
            "Requirement already satisfied: requests<3,>=2.21.0 in /usr/local/lib/python3.6/dist-packages (from tensorboard<2.3.0,>=2.2.0->tensorflow-gpu) (2.23.0)\n",
            "Requirement already satisfied: werkzeug>=0.11.15 in /usr/local/lib/python3.6/dist-packages (from tensorboard<2.3.0,>=2.2.0->tensorflow-gpu) (1.0.1)\n",
            "Requirement already satisfied: markdown>=2.6.8 in /usr/local/lib/python3.6/dist-packages (from tensorboard<2.3.0,>=2.2.0->tensorflow-gpu) (3.2.2)\n",
            "Requirement already satisfied: tensorboard-plugin-wit>=1.6.0 in /usr/local/lib/python3.6/dist-packages (from tensorboard<2.3.0,>=2.2.0->tensorflow-gpu) (1.6.0.post3)\n",
            "Requirement already satisfied: google-auth<2,>=1.6.3 in /usr/local/lib/python3.6/dist-packages (from tensorboard<2.3.0,>=2.2.0->tensorflow-gpu) (1.7.2)\n",
            "Requirement already satisfied: setuptools>=41.0.0 in /usr/local/lib/python3.6/dist-packages (from tensorboard<2.3.0,>=2.2.0->tensorflow-gpu) (46.3.0)\n",
            "Requirement already satisfied: requests-oauthlib>=0.7.0 in /usr/local/lib/python3.6/dist-packages (from google-auth-oauthlib<0.5,>=0.4.1->tensorboard<2.3.0,>=2.2.0->tensorflow-gpu) (1.3.0)\n",
            "Requirement already satisfied: chardet<4,>=3.0.2 in /usr/local/lib/python3.6/dist-packages (from requests<3,>=2.21.0->tensorboard<2.3.0,>=2.2.0->tensorflow-gpu) (3.0.4)\n",
            "Requirement already satisfied: idna<3,>=2.5 in /usr/local/lib/python3.6/dist-packages (from requests<3,>=2.21.0->tensorboard<2.3.0,>=2.2.0->tensorflow-gpu) (2.9)\n",
            "Requirement already satisfied: certifi>=2017.4.17 in /usr/local/lib/python3.6/dist-packages (from requests<3,>=2.21.0->tensorboard<2.3.0,>=2.2.0->tensorflow-gpu) (2020.4.5.1)\n",
            "Requirement already satisfied: urllib3!=1.25.0,!=1.25.1,<1.26,>=1.21.1 in /usr/local/lib/python3.6/dist-packages (from requests<3,>=2.21.0->tensorboard<2.3.0,>=2.2.0->tensorflow-gpu) (1.24.3)\n",
            "Requirement already satisfied: importlib-metadata; python_version < \"3.8\" in /usr/local/lib/python3.6/dist-packages (from markdown>=2.6.8->tensorboard<2.3.0,>=2.2.0->tensorflow-gpu) (1.6.0)\n",
            "Requirement already satisfied: rsa<4.1,>=3.1.4 in /usr/local/lib/python3.6/dist-packages (from google-auth<2,>=1.6.3->tensorboard<2.3.0,>=2.2.0->tensorflow-gpu) (4.0)\n",
            "Requirement already satisfied: pyasn1-modules>=0.2.1 in /usr/local/lib/python3.6/dist-packages (from google-auth<2,>=1.6.3->tensorboard<2.3.0,>=2.2.0->tensorflow-gpu) (0.2.8)\n",
            "Requirement already satisfied: cachetools<3.2,>=2.0.0 in /usr/local/lib/python3.6/dist-packages (from google-auth<2,>=1.6.3->tensorboard<2.3.0,>=2.2.0->tensorflow-gpu) (3.1.1)\n",
            "Requirement already satisfied: oauthlib>=3.0.0 in /usr/local/lib/python3.6/dist-packages (from requests-oauthlib>=0.7.0->google-auth-oauthlib<0.5,>=0.4.1->tensorboard<2.3.0,>=2.2.0->tensorflow-gpu) (3.1.0)\n",
            "Requirement already satisfied: zipp>=0.5 in /usr/local/lib/python3.6/dist-packages (from importlib-metadata; python_version < \"3.8\"->markdown>=2.6.8->tensorboard<2.3.0,>=2.2.0->tensorflow-gpu) (3.1.0)\n",
            "Requirement already satisfied: pyasn1>=0.1.3 in /usr/local/lib/python3.6/dist-packages (from rsa<4.1,>=3.1.4->google-auth<2,>=1.6.3->tensorboard<2.3.0,>=2.2.0->tensorflow-gpu) (0.4.8)\n",
            "Installing collected packages: tensorflow-gpu\n",
            "Successfully installed tensorflow-gpu-2.2.0\n"
          ],
          "name": "stdout"
        }
      ]
    },
    {
      "cell_type": "code",
      "metadata": {
        "id": "nxKHC-tsdp6y",
        "colab_type": "code",
        "outputId": "ff32561a-7ef6-44a4-fa5a-d1083c96661d",
        "colab": {
          "base_uri": "https://localhost:8080/",
          "height": 89
        }
      },
      "source": [
        "import numpy as np\n",
        "import pandas as pd\n",
        "import seaborn as sns\n",
        "import matplotlib.pyplot as plt\n",
        "from sklearn.model_selection import train_test_split\n",
        "from sklearn.metrics import f1_score, confusion_matrix\n",
        "from keras.preprocessing.text import Tokenizer\n",
        "from keras.preprocessing.sequence import pad_sequences\n",
        "import string\n",
        "import gc\n",
        "from gensim.models import KeyedVectors\n",
        "from keras.models import Model,Sequential\n",
        "from keras.layers import Dense, Conv2D, Flatten,Embedding, Conv1D, MaxPooling1D, Bidirectional, LSTM, Dropout, Activation\n"
      ],
      "execution_count": 7,
      "outputs": [
        {
          "output_type": "stream",
          "text": [
            "/usr/local/lib/python3.6/dist-packages/statsmodels/tools/_testing.py:19: FutureWarning: pandas.util.testing is deprecated. Use the functions in the public API at pandas.testing instead.\n",
            "  import pandas.util.testing as tm\n",
            "Using TensorFlow backend.\n"
          ],
          "name": "stderr"
        }
      ]
    },
    {
      "cell_type": "code",
      "metadata": {
        "id": "BI-kZf6Uc38u",
        "colab_type": "code",
        "colab": {}
      },
      "source": [
        "data = pd.read_csv('./train.csv')\n",
        "test_data = pd.read_csv('./test.csv')"
      ],
      "execution_count": 0,
      "outputs": []
    },
    {
      "cell_type": "markdown",
      "metadata": {
        "id": "kT_-6KTgGoMm",
        "colab_type": "text"
      },
      "source": [
        "## Exploratory Data Analysis"
      ]
    },
    {
      "cell_type": "markdown",
      "metadata": {
        "id": "ez61C0-uGuth",
        "colab_type": "text"
      },
      "source": [
        " Data size and shape: 1.3 millions * 3 "
      ]
    },
    {
      "cell_type": "code",
      "metadata": {
        "id": "vzs_xjCCogfR",
        "colab_type": "code",
        "colab": {
          "base_uri": "https://localhost:8080/",
          "height": 202
        },
        "outputId": "a0170e74-c8b5-4e97-d666-c52b453f103c"
      },
      "source": [
        "data.head()"
      ],
      "execution_count": 9,
      "outputs": [
        {
          "output_type": "execute_result",
          "data": {
            "text/html": [
              "<div>\n",
              "<style scoped>\n",
              "    .dataframe tbody tr th:only-of-type {\n",
              "        vertical-align: middle;\n",
              "    }\n",
              "\n",
              "    .dataframe tbody tr th {\n",
              "        vertical-align: top;\n",
              "    }\n",
              "\n",
              "    .dataframe thead th {\n",
              "        text-align: right;\n",
              "    }\n",
              "</style>\n",
              "<table border=\"1\" class=\"dataframe\">\n",
              "  <thead>\n",
              "    <tr style=\"text-align: right;\">\n",
              "      <th></th>\n",
              "      <th>qid</th>\n",
              "      <th>question_text</th>\n",
              "      <th>target</th>\n",
              "    </tr>\n",
              "  </thead>\n",
              "  <tbody>\n",
              "    <tr>\n",
              "      <th>0</th>\n",
              "      <td>00002165364db923c7e6</td>\n",
              "      <td>How did Quebec nationalists see their province...</td>\n",
              "      <td>0</td>\n",
              "    </tr>\n",
              "    <tr>\n",
              "      <th>1</th>\n",
              "      <td>000032939017120e6e44</td>\n",
              "      <td>Do you have an adopted dog, how would you enco...</td>\n",
              "      <td>0</td>\n",
              "    </tr>\n",
              "    <tr>\n",
              "      <th>2</th>\n",
              "      <td>0000412ca6e4628ce2cf</td>\n",
              "      <td>Why does velocity affect time? Does velocity a...</td>\n",
              "      <td>0</td>\n",
              "    </tr>\n",
              "    <tr>\n",
              "      <th>3</th>\n",
              "      <td>000042bf85aa498cd78e</td>\n",
              "      <td>How did Otto von Guericke used the Magdeburg h...</td>\n",
              "      <td>0</td>\n",
              "    </tr>\n",
              "    <tr>\n",
              "      <th>4</th>\n",
              "      <td>0000455dfa3e01eae3af</td>\n",
              "      <td>Can I convert montra helicon D to a mountain b...</td>\n",
              "      <td>0</td>\n",
              "    </tr>\n",
              "  </tbody>\n",
              "</table>\n",
              "</div>"
            ],
            "text/plain": [
              "                    qid  ... target\n",
              "0  00002165364db923c7e6  ...      0\n",
              "1  000032939017120e6e44  ...      0\n",
              "2  0000412ca6e4628ce2cf  ...      0\n",
              "3  000042bf85aa498cd78e  ...      0\n",
              "4  0000455dfa3e01eae3af  ...      0\n",
              "\n",
              "[5 rows x 3 columns]"
            ]
          },
          "metadata": {
            "tags": []
          },
          "execution_count": 9
        }
      ]
    },
    {
      "cell_type": "markdown",
      "metadata": {
        "id": "u3s-x3LiGz6i",
        "colab_type": "text"
      },
      "source": [
        "Data is heavily imbalanced: 94% of texts are sincere and 6% are insincere."
      ]
    },
    {
      "cell_type": "code",
      "metadata": {
        "id": "7mnfVRJYd1SJ",
        "colab_type": "code",
        "outputId": "6555b6c9-d3ec-4bbb-e7e6-6cb89c2d3274",
        "colab": {
          "base_uri": "https://localhost:8080/",
          "height": 307
        }
      },
      "source": [
        "sns.countplot(x='target', data=data)"
      ],
      "execution_count": 10,
      "outputs": [
        {
          "output_type": "execute_result",
          "data": {
            "text/plain": [
              "<matplotlib.axes._subplots.AxesSubplot at 0x7ff8177cd4e0>"
            ]
          },
          "metadata": {
            "tags": []
          },
          "execution_count": 10
        },
        {
          "output_type": "display_data",
          "data": {
            "image/png": "[encoded data removed]",
            "text/plain": [
              "<Figure size 432x288 with 1 Axes>"
            ]
          },
          "metadata": {
            "tags": [],
            "needs_background": "light"
          }
        }
      ]
    },
    {
      "cell_type": "markdown",
      "metadata": {
        "id": "392fHQtJK5GY",
        "colab_type": "text"
      },
      "source": [
        "## Data Preprocessing"
      ]
    },
    {
      "cell_type": "markdown",
      "metadata": {
        "id": "9PLgMaHeK8f6",
        "colab_type": "text"
      },
      "source": [
        "#### The following preprocessing is done:<br>\n",
        "-Remove all punctuations<br>\n",
        "-Remove all numbers<br>\n",
        "-Remove stopwords<br>\n"
      ]
    },
    {
      "cell_type": "code",
      "metadata": {
        "id": "xPRPjNHmd2Qa",
        "colab_type": "code",
        "colab": {}
      },
      "source": [
        "def remove_punctuations(text):\n",
        "    text = text.translate(str.maketrans(\"\",\"\", string.punctuation))\n",
        "    text = text.translate(str.maketrans(\"\",\"\", '1234567890'))\n",
        "    return text"
      ],
      "execution_count": 0,
      "outputs": []
    },
    {
      "cell_type": "code",
      "metadata": {
        "id": "stzz1P26evXN",
        "colab_type": "code",
        "colab": {}
      },
      "source": [
        "\n",
        "data['question_text'] = data['question_text'].apply(lambda x: remove_punctuations(x))\n",
        "test_data, data=data[1000000:], data[:1000000]"
      ],
      "execution_count": 0,
      "outputs": []
    },
    {
      "cell_type": "code",
      "metadata": {
        "id": "LUZrmb_XfhoA",
        "colab_type": "code",
        "colab": {}
      },
      "source": [
        "train, test = train_test_split(data, test_size=0.2, random_state=2018)\n",
        "train_X = train[\"question_text\"].fillna(\"_na_\").values\n",
        "test_X = test[\"question_text\"].fillna(\"_na_\").values\n",
        "test_data_X = test_data[\"question_text\"].fillna(\"_na_\").values"
      ],
      "execution_count": 0,
      "outputs": []
    },
    {
      "cell_type": "markdown",
      "metadata": {
        "id": "tWlrFZofL5M7",
        "colab_type": "text"
      },
      "source": [
        "We used Keras Embedding layer:\n",
        "\n",
        "-Size of the vocabulary is set to 40000, which is equal to the maximum number of words in Text processing.\n",
        "\n",
        "-Initialize weights to the embeddings matrix that we created by concatenating all 4 word embeddings.\n",
        "\n",
        "-We set the length of input sequences to 70"
      ]
    },
    {
      "cell_type": "code",
      "metadata": {
        "id": "yzGQiYO9foCe",
        "colab_type": "code",
        "colab": {}
      },
      "source": [
        "tokenizer = Tokenizer(num_words=40000)\n",
        "tokenizer.fit_on_texts(list(train_X))\n",
        "train_X = tokenizer.texts_to_sequences(train_X)\n",
        "test_X = tokenizer.texts_to_sequences(test_X)\n",
        "test_data_X = tokenizer.texts_to_sequences(test_data_X)"
      ],
      "execution_count": 0,
      "outputs": []
    },
    {
      "cell_type": "code",
      "metadata": {
        "id": "rWkKWlZgfqZi",
        "colab_type": "code",
        "colab": {}
      },
      "source": [
        "train_X = pad_sequences(train_X, maxlen=70)\n",
        "test_X = pad_sequences(test_X, maxlen=70)\n",
        "train_y = train['target'].values\n",
        "test_y = test['target'].values\n",
        "train_X=train_X.reshape(-1,70)\n",
        "test_X=test_X.reshape(-1,70)\n",
        "test_data_X = pad_sequences(test_data_X, maxlen=70)\n",
        "test_data_y = test_data['target'].values\n",
        "test_data_X=test_data_X.reshape(-1,70)"
      ],
      "execution_count": 0,
      "outputs": []
    },
    {
      "cell_type": "code",
      "metadata": {
        "id": "RuQa7IYrA9R2",
        "colab_type": "code",
        "outputId": "d61852ac-1760-495f-cbd9-a662e6db3f83",
        "colab": {
          "base_uri": "https://localhost:8080/",
          "height": 35
        }
      },
      "source": [
        "import tensorflow as tf\n",
        "tf.test.gpu_device_name()"
      ],
      "execution_count": 16,
      "outputs": [
        {
          "output_type": "execute_result",
          "data": {
            "text/plain": [
              "'/device:GPU:0'"
            ]
          },
          "metadata": {
            "tags": []
          },
          "execution_count": 16
        }
      ]
    },
    {
      "cell_type": "markdown",
      "metadata": {
        "id": "9NL9_O_fhcMI",
        "colab_type": "text"
      },
      "source": [
        "### Glove Embedding"
      ]
    },
    {
      "cell_type": "code",
      "metadata": {
        "id": "zmbzmOUHhEEK",
        "colab_type": "code",
        "outputId": "a67144ab-ba82-4ee2-d148-dc1edb0ffba0",
        "colab": {
          "base_uri": "https://localhost:8080/",
          "height": 89
        }
      },
      "source": [
        "EMBEDDING_FILE = './glove.840B.300d/glove.840B.300d.txt'\n",
        "def get_coefs(word,*arr): return word, np.asarray(arr, dtype='float32')\n",
        "embeddings_index = dict(get_coefs(*o.split(\" \")) for o in open(EMBEDDING_FILE))\n",
        "\n",
        "all_embs = np.stack(embeddings_index.values())\n",
        "emb_mean,emb_std = all_embs.mean(), all_embs.std()\n",
        "embed_size = all_embs.shape[1]\n",
        "\n",
        "word_index = tokenizer.word_index\n",
        "nb_words = min(40000, len(word_index))\n",
        "embedding_matrix_1 = np.random.normal(emb_mean, emb_std, (nb_words, embed_size))\n",
        "for word, i in word_index.items():\n",
        "    if i >= 40000: continue\n",
        "    embedding_vector = embeddings_index.get(word)\n",
        "    if embedding_vector is not None: embedding_matrix_1[i] = embedding_vector\n",
        "\n",
        "del embeddings_index; gc.collect() "
      ],
      "execution_count": 17,
      "outputs": [
        {
          "output_type": "stream",
          "text": [
            "/usr/local/lib/python3.6/dist-packages/IPython/core/interactiveshell.py:2822: FutureWarning: arrays to stack must be passed as a \"sequence\" type such as list or tuple. Support for non-sequence iterables such as generators is deprecated as of NumPy 1.16 and will raise an error in the future.\n",
            "  if self.run_code(code, result):\n"
          ],
          "name": "stderr"
        },
        {
          "output_type": "execute_result",
          "data": {
            "text/plain": [
              "22"
            ]
          },
          "metadata": {
            "tags": []
          },
          "execution_count": 17
        }
      ]
    },
    {
      "cell_type": "markdown",
      "metadata": {
        "id": "VtwhoRMiiAMH",
        "colab_type": "text"
      },
      "source": [
        "### Wiki News Embedding"
      ]
    },
    {
      "cell_type": "code",
      "metadata": {
        "id": "wGPnu1X-h9ab",
        "colab_type": "code",
        "outputId": "947c695e-93cc-4bfc-f556-78a9df92e114",
        "colab": {
          "base_uri": "https://localhost:8080/",
          "height": 89
        }
      },
      "source": [
        "EMBEDDING_FILE = './wiki-news-300d-1M/wiki-news-300d-1M.vec'\n",
        "def get_coefs(word,*arr): return word, np.asarray(arr, dtype='float32')\n",
        "embeddings_index = dict(get_coefs(*o.split(\" \")) for o in open(EMBEDDING_FILE) if len(o)>100)\n",
        "\n",
        "all_embs = np.stack(embeddings_index.values())\n",
        "emb_mean,emb_std = all_embs.mean(), all_embs.std()\n",
        "embed_size = all_embs.shape[1]\n",
        "\n",
        "word_index = tokenizer.word_index\n",
        "nb_words = min(40000, len(word_index))\n",
        "embedding_matrix_2 = np.random.normal(emb_mean, emb_std, (nb_words, embed_size))\n",
        "for word, i in word_index.items():\n",
        "    if i >= 40000: continue\n",
        "    embedding_vector = embeddings_index.get(word)\n",
        "    if embedding_vector is not None: embedding_matrix_2[i] = embedding_vector\n",
        "        \n",
        "del embeddings_index; gc.collect()"
      ],
      "execution_count": 18,
      "outputs": [
        {
          "output_type": "stream",
          "text": [
            "/usr/local/lib/python3.6/dist-packages/IPython/core/interactiveshell.py:2822: FutureWarning: arrays to stack must be passed as a \"sequence\" type such as list or tuple. Support for non-sequence iterables such as generators is deprecated as of NumPy 1.16 and will raise an error in the future.\n",
            "  if self.run_code(code, result):\n"
          ],
          "name": "stderr"
        },
        {
          "output_type": "execute_result",
          "data": {
            "text/plain": [
              "22"
            ]
          },
          "metadata": {
            "tags": []
          },
          "execution_count": 18
        }
      ]
    },
    {
      "cell_type": "markdown",
      "metadata": {
        "id": "YXN73nKIlcKq",
        "colab_type": "text"
      },
      "source": [
        "### Paragrams Embedding"
      ]
    },
    {
      "cell_type": "code",
      "metadata": {
        "id": "btL5QVDrjM44",
        "colab_type": "code",
        "outputId": "6936abed-2d75-4532-cf6e-4df27d0b5807",
        "colab": {
          "base_uri": "https://localhost:8080/",
          "height": 89
        }
      },
      "source": [
        "EMBEDDING_FILE = './paragram_300_sl999/paragram_300_sl999.txt'\n",
        "def get_coefs(word,*arr): return word, np.asarray(arr, dtype='float32')\n",
        "embeddings_index = dict(get_coefs(*o.split(\" \")) for o in open(EMBEDDING_FILE, encoding=\"utf8\", errors='ignore') if len(o)>100)\n",
        "\n",
        "all_embs = np.stack(embeddings_index.values())\n",
        "emb_mean,emb_std = all_embs.mean(), all_embs.std()\n",
        "embed_size = all_embs.shape[1]\n",
        "\n",
        "word_index = tokenizer.word_index\n",
        "nb_words = min(40000, len(word_index))\n",
        "embedding_matrix_3 = np.random.normal(emb_mean, emb_std, (nb_words, embed_size))\n",
        "for word, i in word_index.items():\n",
        "    if i >= 40000: continue\n",
        "    embedding_vector = embeddings_index.get(word)\n",
        "    if embedding_vector is not None: embedding_matrix_3[i] = embedding_vector\n",
        "\n",
        "del embeddings_index; gc.collect()   "
      ],
      "execution_count": 19,
      "outputs": [
        {
          "output_type": "stream",
          "text": [
            "/usr/local/lib/python3.6/dist-packages/IPython/core/interactiveshell.py:2822: FutureWarning: arrays to stack must be passed as a \"sequence\" type such as list or tuple. Support for non-sequence iterables such as generators is deprecated as of NumPy 1.16 and will raise an error in the future.\n",
            "  if self.run_code(code, result):\n"
          ],
          "name": "stderr"
        },
        {
          "output_type": "execute_result",
          "data": {
            "text/plain": [
              "22"
            ]
          },
          "metadata": {
            "tags": []
          },
          "execution_count": 19
        }
      ]
    },
    {
      "cell_type": "markdown",
      "metadata": {
        "id": "YfbLjC1zl_jq",
        "colab_type": "text"
      },
      "source": [
        "### Word2Vec Embedding"
      ]
    },
    {
      "cell_type": "code",
      "metadata": {
        "id": "cMA7dNufl9z6",
        "colab_type": "code",
        "outputId": "a6305632-f998-4551-c9d8-64aa4addccb5",
        "colab": {
          "base_uri": "https://localhost:8080/",
          "height": 89
        }
      },
      "source": [
        "EMBEDDING_FILE = './GoogleNews-vectors-negative300/GoogleNews-vectors-negative300.bin'\n",
        "embeddings_index = KeyedVectors.load_word2vec_format(EMBEDDING_FILE, binary=True)\n",
        "\n",
        "word_index = tokenizer.word_index\n",
        "nb_words = min(40000, len(word_index))\n",
        "embedding_matrix_4 = (np.random.rand(nb_words, embed_size) - 0.5) / 5.0\n",
        "for word, i in word_index.items():\n",
        "    if i >= 40000: continue\n",
        "    if word in embeddings_index:\n",
        "        embedding_vector = embeddings_index.get_vector(word)\n",
        "        embedding_matrix_4[i] = embedding_vector\n",
        "        \n",
        "del embeddings_index; gc.collect()    "
      ],
      "execution_count": 20,
      "outputs": [
        {
          "output_type": "stream",
          "text": [
            "/usr/local/lib/python3.6/dist-packages/smart_open/smart_open_lib.py:253: UserWarning: This function is deprecated, use smart_open.open instead. See the migration notes for details: https://github.com/RaRe-Technologies/smart_open/blob/master/README.rst#migrating-to-the-new-open-function\n",
            "  'See the migration notes for details: %s' % _MIGRATION_NOTES_URL\n"
          ],
          "name": "stderr"
        },
        {
          "output_type": "execute_result",
          "data": {
            "text/plain": [
              "0"
            ]
          },
          "metadata": {
            "tags": []
          },
          "execution_count": 20
        }
      ]
    },
    {
      "cell_type": "code",
      "metadata": {
        "id": "XyQKpncjmruf",
        "colab_type": "code",
        "outputId": "f108856c-7cc7-4fad-d8fd-f7ade68d7df6",
        "colab": {
          "base_uri": "https://localhost:8080/",
          "height": 35
        }
      },
      "source": [
        "embedding_matrix = np.concatenate((embedding_matrix_1, embedding_matrix_2, embedding_matrix_3, embedding_matrix_4), axis=1)  \n",
        "del embedding_matrix_1, embedding_matrix_2, embedding_matrix_3, embedding_matrix_4\n",
        "gc.collect()\n",
        "np.shape(embedding_matrix)"
      ],
      "execution_count": 21,
      "outputs": [
        {
          "output_type": "execute_result",
          "data": {
            "text/plain": [
              "(40000, 1200)"
            ]
          },
          "metadata": {
            "tags": []
          },
          "execution_count": 21
        }
      ]
    },
    {
      "cell_type": "code",
      "metadata": {
        "id": "WsO41PB6BEom",
        "colab_type": "code",
        "colab": {}
      },
      "source": [
        "#del model\n",
        "#tf.keras.backend.clear_session()"
      ],
      "execution_count": 0,
      "outputs": []
    },
    {
      "cell_type": "code",
      "metadata": {
        "id": "AXf8GFjL11IH",
        "colab_type": "code",
        "colab": {}
      },
      "source": [
        "model = Sequential()\n",
        "model.add(Embedding(40000, embed_size * 4, weights=[embedding_matrix], input_length=70))\n",
        "model.add(Bidirectional(LSTM(128, return_sequences=True)))\n",
        "model.add(Conv1D(128, kernel_size=1, activation='relu', input_shape=(70, 32)))\n",
        "model.add(MaxPooling1D(pool_size=3))\n",
        "model.add(Conv1D(64, kernel_size=2, activation='relu'))\n",
        "model.add(MaxPooling1D(pool_size=2))\n",
        "model.add(Conv1D(32, kernel_size=1, activation='relu'))\n",
        "model.add(MaxPooling1D(pool_size=1))\n",
        "model.add(Bidirectional(LSTM(128, return_sequences=True)))\n",
        "model.add(Flatten())\n",
        "model.add(Dropout(0.1))\n",
        "model.add(Dense(1, activation='sigmoid'))\n"
      ],
      "execution_count": 0,
      "outputs": []
    },
    {
      "cell_type": "code",
      "metadata": {
        "id": "GIR0nxIu1rWV",
        "colab_type": "code",
        "colab": {}
      },
      "source": [
        "model.compile(optimizer='adam', loss='binary_crossentropy', metrics=['accuracy'])"
      ],
      "execution_count": 0,
      "outputs": []
    },
    {
      "cell_type": "code",
      "metadata": {
        "id": "OBRZVmRa1vy8",
        "colab_type": "code",
        "outputId": "338401b2-1210-474f-a557-9fb8cd564e7a",
        "colab": {
          "base_uri": "https://localhost:8080/",
          "height": 176
        }
      },
      "source": [
        "model.fit(train_X, train_y, validation_data=(test_X, test_y),batch_size=512, epochs=2, verbose=1)"
      ],
      "execution_count": 25,
      "outputs": [
        {
          "output_type": "stream",
          "text": [
            "/usr/local/lib/python3.6/dist-packages/tensorflow/python/framework/indexed_slices.py:434: UserWarning: Converting sparse IndexedSlices to a dense Tensor of unknown shape. This may consume a large amount of memory.\n",
            "  \"Converting sparse IndexedSlices to a dense Tensor of unknown shape. \"\n"
          ],
          "name": "stderr"
        },
        {
          "output_type": "stream",
          "text": [
            "Train on 800000 samples, validate on 200000 samples\n",
            "Epoch 1/2\n",
            "800000/800000 [==============================] - 986s 1ms/step - loss: 0.1162 - accuracy: 0.9546 - val_loss: 0.1035 - val_accuracy: 0.9590\n",
            "Epoch 2/2\n",
            "800000/800000 [==============================] - 981s 1ms/step - loss: 0.0915 - accuracy: 0.9634 - val_loss: 0.1044 - val_accuracy: 0.9594\n"
          ],
          "name": "stdout"
        },
        {
          "output_type": "execute_result",
          "data": {
            "text/plain": [
              "<keras.callbacks.callbacks.History at 0x7ff81777d898>"
            ]
          },
          "metadata": {
            "tags": []
          },
          "execution_count": 25
        }
      ]
    },
    {
      "cell_type": "code",
      "metadata": {
        "id": "SwxBmqoz29yG",
        "colab_type": "code",
        "colab": {}
      },
      "source": [
        "pred=model.predict(test_X)"
      ],
      "execution_count": 0,
      "outputs": []
    },
    {
      "cell_type": "code",
      "metadata": {
        "id": "lBj9M_lnTnFO",
        "colab_type": "code",
        "outputId": "6acfbf85-d007-4859-cfb1-d228af351a52",
        "colab": {
          "base_uri": "https://localhost:8080/",
          "height": 1000
        }
      },
      "source": [
        "from sklearn.metrics import f1_score\n",
        "thresholds = []\n",
        "for thresh in np.arange(0.1, 1, 0.01):\n",
        "    thresh = np.round(thresh, 2)\n",
        "    r= f1_score(test_y, (pred>thresh).astype(int))\n",
        "    thresholds.append([thresh, r])\n",
        "    print(\"F1 score at threshold {0} is {1}\".format(thresh, r))\n",
        "\n",
        "thresholds.sort(key=lambda x: x[1], reverse=True)\n",
        "best_thresh = thresholds[0][0]\n",
        "print(\"Best threshold: \", best_thresh)"
      ],
      "execution_count": 27,
      "outputs": [
        {
          "output_type": "stream",
          "text": [
            "F1 score at threshold 0.1 is 0.624075559119665\n",
            "F1 score at threshold 0.11 is 0.6314350797266515\n",
            "F1 score at threshold 0.12 is 0.6374709437470943\n",
            "F1 score at threshold 0.13 is 0.6435062476334722\n",
            "F1 score at threshold 0.14 is 0.6488689234718434\n",
            "F1 score at threshold 0.15 is 0.6529693767733098\n",
            "F1 score at threshold 0.16 is 0.6560174620498065\n",
            "F1 score at threshold 0.17 is 0.6589812332439677\n",
            "F1 score at threshold 0.18 is 0.6620206690236606\n",
            "F1 score at threshold 0.19 is 0.6635237439779766\n",
            "F1 score at threshold 0.2 is 0.6650874381662369\n",
            "F1 score at threshold 0.21 is 0.6669487342218462\n",
            "F1 score at threshold 0.22 is 0.6687595875994435\n",
            "F1 score at threshold 0.23 is 0.6702054670855451\n",
            "F1 score at threshold 0.24 is 0.6712913943553982\n",
            "F1 score at threshold 0.25 is 0.6722447475119794\n",
            "F1 score at threshold 0.26 is 0.6739487026543394\n",
            "F1 score at threshold 0.27 is 0.6748540214729705\n",
            "F1 score at threshold 0.28 is 0.673816314888762\n",
            "F1 score at threshold 0.29 is 0.6730850370143071\n",
            "F1 score at threshold 0.3 is 0.6723397671450123\n",
            "F1 score at threshold 0.31 is 0.6710623853926886\n",
            "F1 score at threshold 0.32 is 0.6705438541339203\n",
            "F1 score at threshold 0.33 is 0.67004874955412\n",
            "F1 score at threshold 0.34 is 0.6682409445667401\n",
            "F1 score at threshold 0.35 is 0.6674467398321496\n",
            "F1 score at threshold 0.36 is 0.6660970747385979\n",
            "F1 score at threshold 0.37 is 0.664941891503429\n",
            "F1 score at threshold 0.38 is 0.6634118085150399\n",
            "F1 score at threshold 0.39 is 0.660517529215359\n",
            "F1 score at threshold 0.4 is 0.6577740374500316\n",
            "F1 score at threshold 0.41 is 0.6548695098663272\n",
            "F1 score at threshold 0.42 is 0.6522055363025713\n",
            "F1 score at threshold 0.43 is 0.6494774121102186\n",
            "F1 score at threshold 0.44 is 0.6471587197909863\n",
            "F1 score at threshold 0.45 is 0.6440365360969612\n",
            "F1 score at threshold 0.46 is 0.6409847679773291\n",
            "F1 score at threshold 0.47 is 0.6368105837132385\n",
            "F1 score at threshold 0.48 is 0.6338758396826113\n",
            "F1 score at threshold 0.49 is 0.630367540029112\n",
            "F1 score at threshold 0.5 is 0.6268711543759758\n",
            "F1 score at threshold 0.51 is 0.621847181008902\n",
            "F1 score at threshold 0.52 is 0.618411214953271\n",
            "F1 score at threshold 0.53 is 0.6131407533276692\n",
            "F1 score at threshold 0.54 is 0.6070917929653991\n",
            "F1 score at threshold 0.55 is 0.6016949152542374\n",
            "F1 score at threshold 0.56 is 0.5949237589516246\n",
            "F1 score at threshold 0.57 is 0.5907483794932233\n",
            "F1 score at threshold 0.58 is 0.5855520848827409\n",
            "F1 score at threshold 0.59 is 0.5781672508763144\n",
            "F1 score at threshold 0.6 is 0.5715007835009858\n",
            "F1 score at threshold 0.61 is 0.563247775846201\n",
            "F1 score at threshold 0.62 is 0.5568692240177603\n",
            "F1 score at threshold 0.63 is 0.5485857426155933\n",
            "F1 score at threshold 0.64 is 0.5385670570855756\n",
            "F1 score at threshold 0.65 is 0.53061877098545\n",
            "F1 score at threshold 0.66 is 0.5218187695291455\n",
            "F1 score at threshold 0.67 is 0.5121698883746257\n",
            "F1 score at threshold 0.68 is 0.5021215627927481\n",
            "F1 score at threshold 0.69 is 0.4931552587646077\n",
            "F1 score at threshold 0.7 is 0.4827120171190449\n",
            "F1 score at threshold 0.71 is 0.4723314526699721\n",
            "F1 score at threshold 0.72 is 0.45954057485859406\n",
            "F1 score at threshold 0.73 is 0.4463659733582613\n",
            "F1 score at threshold 0.74 is 0.4337221005269078\n",
            "F1 score at threshold 0.75 is 0.4198523675208546\n",
            "F1 score at threshold 0.76 is 0.40857212238950946\n",
            "F1 score at threshold 0.77 is 0.3940177252584934\n",
            "F1 score at threshold 0.78 is 0.3766793726176342\n",
            "F1 score at threshold 0.79 is 0.3584893684544589\n",
            "F1 score at threshold 0.8 is 0.3415513356935951\n",
            "F1 score at threshold 0.81 is 0.32208709297763827\n",
            "F1 score at threshold 0.82 is 0.30001329256945364\n",
            "F1 score at threshold 0.83 is 0.27778528021607024\n",
            "F1 score at threshold 0.84 is 0.25331228118349697\n",
            "F1 score at threshold 0.85 is 0.2290140255390412\n",
            "F1 score at threshold 0.86 is 0.20332009080590238\n",
            "F1 score at threshold 0.87 is 0.1756210283073368\n",
            "F1 score at threshold 0.88 is 0.1489424206815511\n",
            "F1 score at threshold 0.89 is 0.12154283151442667\n",
            "F1 score at threshold 0.9 is 0.09628673399650695\n",
            "F1 score at threshold 0.91 is 0.0725675987982436\n",
            "F1 score at threshold 0.92 is 0.049664219896923316\n",
            "F1 score at threshold 0.93 is 0.030176159254285486\n",
            "F1 score at threshold 0.94 is 0.014182136881523384\n",
            "F1 score at threshold 0.95 is 0.003844921499519385\n",
            "F1 score at threshold 0.96 is 0.0004814636494944632\n",
            "F1 score at threshold 0.97 is 0.0\n",
            "F1 score at threshold 0.98 is 0.0\n",
            "F1 score at threshold 0.99 is 0.0\n",
            "Best threshold:  0.27\n"
          ],
          "name": "stdout"
        }
      ]
    },
    {
      "cell_type": "code",
      "metadata": {
        "id": "v5Q7s6NiCCfM",
        "colab_type": "code",
        "colab": {}
      },
      "source": [
        "threshold_values = np.array(thresholds)"
      ],
      "execution_count": 0,
      "outputs": []
    },
    {
      "cell_type": "code",
      "metadata": {
        "id": "qahkFl2VTsYl",
        "colab_type": "code",
        "outputId": "8b60b8f4-e196-48a2-cb1f-fdc720089b35",
        "colab": {
          "base_uri": "https://localhost:8080/",
          "height": 467
        }
      },
      "source": [
        "plt.figure(figsize=(20,10))\n",
        "sns.scatterplot(np.arange(0.1, 1, 0.01),threshold_values[:,1])\n",
        "plt.xlabel('Threshold')\n",
        "plt.ylabel('F1 Score')"
      ],
      "execution_count": 29,
      "outputs": [
        {
          "output_type": "execute_result",
          "data": {
            "text/plain": [
              "Text(0, 0.5, 'F1 Score')"
            ]
          },
          "metadata": {
            "tags": []
          },
          "execution_count": 29
        },
        {
          "output_type": "display_data",
          "data": {
            "image/png": "[encoded data removed]",
            "text/plain": [
              "<Figure size 1440x720 with 1 Axes>"
            ]
          },
          "metadata": {
            "tags": [],
            "needs_background": "light"
          }
        }
      ]
    },
    {
      "cell_type": "code",
      "metadata": {
        "id": "AORygN3IbqPK",
        "colab_type": "code",
        "colab": {}
      },
      "source": [
        "pred_values=[]\n",
        "for i in pred:\n",
        "  if i >best_thresh:\n",
        "    pred_values.append(1)\n",
        "  else:\n",
        "    pred_values.append(0)"
      ],
      "execution_count": 0,
      "outputs": []
    },
    {
      "cell_type": "markdown",
      "metadata": {
        "id": "Pdmq8K83cJs8",
        "colab_type": "text"
      },
      "source": [
        "### Confusion Matrix"
      ]
    },
    {
      "cell_type": "code",
      "metadata": {
        "id": "0qhpsEifPor1",
        "colab_type": "code",
        "colab": {
          "base_uri": "https://localhost:8080/",
          "height": 283
        },
        "outputId": "fd985237-9a5a-489a-ddb5-3a6bce3c69b9"
      },
      "source": [
        "cf_matrix = confusion_matrix(test_y, pred_values)\n",
        "sns.heatmap(cf_matrix, annot=True,fmt=\"d\")"
      ],
      "execution_count": 35,
      "outputs": [
        {
          "output_type": "execute_result",
          "data": {
            "text/plain": [
              "<matplotlib.axes._subplots.AxesSubplot at 0x7ff8191ba2b0>"
            ]
          },
          "metadata": {
            "tags": []
          },
          "execution_count": 35
        },
        {
          "output_type": "display_data",
          "data": {
            "image/png": "[encoded data removed]",
            "text/plain": [
              "<Figure size 432x288 with 2 Axes>"
            ]
          },
          "metadata": {
            "tags": [],
            "needs_background": "light"
          }
        }
      ]
    },
    {
      "cell_type": "code",
      "metadata": {
        "id": "si6UXEhVbUp-",
        "colab_type": "code",
        "colab": {}
      },
      "source": [
        ""
      ],
      "execution_count": 0,
      "outputs": []
    }
  ]
}